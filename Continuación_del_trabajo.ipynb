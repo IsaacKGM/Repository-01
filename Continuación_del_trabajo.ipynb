{
  "nbformat": 4,
  "nbformat_minor": 0,
  "metadata": {
    "colab": {
      "name": "Continuación del trabajo ",
      "provenance": [],
      "collapsed_sections": []
    },
    "kernelspec": {
      "name": "python3",
      "display_name": "Python 3"
    },
    "language_info": {
      "name": "python"
    }
  },
  "cells": [
    {
      "cell_type": "markdown",
      "source": [
        "##1. Division De Numero entero y su tipo de Resultado"
      ],
      "metadata": {
        "id": "MY5ABRxobssL"
      }
    },
    {
      "cell_type": "code",
      "source": [
        "x= int(input(\"ingrese un numero entero que sera el dividendo de la division\"))\n",
        "y= int(input(\" escriba un segundo numero entero que sera el divisor \"))\n",
        "\n",
        "if y==0:\n",
        "  print(\" no se puede dividir por 0 ingresa otro numero mayor a 0\")\n",
        "  y=int(input())\n",
        "\n",
        "division=(x/y)\n",
        "modulo=(x%y)\n",
        "\n",
        "if modulo ==00:\n",
        "  print(\"la division es exacta. el resultado es=\" ,division, \"y su residuo es\" ,modulo)\n",
        "else:\n",
        "  print(\"la division no es exacta. el resultado es=\" ,division, \"y su residuo es\" ,modulo)"
      ],
      "metadata": {
        "id": "5E2zmPtYby9B"
      },
      "execution_count": null,
      "outputs": []
    },
    {
      "cell_type": "markdown",
      "source": [
        "## 2. Multiplos"
      ],
      "metadata": {
        "id": "Q8ij8DxGb2Mo"
      }
    },
    {
      "cell_type": "code",
      "source": [
        "x= int(input(\"ingrese el primer numero\"))\n",
        "y= int(input(\" ingresa el segundo numero\"))\n",
        "\n",
        "division=(x/y)\n",
        "modulo=(x%y)\n",
        "\n",
        "if modulo==0:\n",
        "  print(\"el numero\",x,\"es multiplo del numero \" ,y, \"el modulo es \",modulo,)\n",
        "\n",
        "\n",
        "else:\n",
        "  print(\"los numeros no son multiplos \")"
      ],
      "metadata": {
        "id": "ATnJL5FSb6pY"
      },
      "execution_count": null,
      "outputs": []
    },
    {
      "cell_type": "markdown",
      "source": [
        "##3. Orden de mayor a Menor de Tres Hermanos"
      ],
      "metadata": {
        "id": "ABrXWZuhnzPW"
      }
    },
    {
      "cell_type": "code",
      "source": [
        "x= int(input(\"ingresa la edad de un hermano \"))\n",
        "y= int(input(\" ingresa el valor de otro \"))\n",
        "z= int(input(\" ingresa el valor de otro \"))\n",
        "\n",
        "if (x==y)and(x==z):\n",
        "  print(\"son trillizos\")\n",
        "else:\n",
        "  if(x==y):\n",
        "    print(x,\"y\",y,\"son gemelos,\")\n",
        "    if(z>x):\n",
        "      print(z,\"es el mayor\")\n",
        "    else:\n",
        "      print(z,\"es el menor\")\n",
        "\n",
        "  if(x==z):\n",
        "    print(x,\"y\",z,\"son gemelos,\")\n",
        "    if(y>x):\n",
        "      print(y,\"es el mayor\")\n",
        "    else:\n",
        "      print(y,\"es el menor\")\n",
        "\n",
        "\n",
        "  if(y==z):\n",
        "    print(y,\"y\",z,\"son gemelos,\")\n",
        "    if(x>y):\n",
        "      print(x,\"es el mayor\")\n",
        "    else:\n",
        "      print(x,\"es el menor\")\n",
        "\n",
        "\n",
        "\n",
        "  if(x>y)and(x>z):\n",
        "    mayor=x\n",
        "    if(z>y):\n",
        "      mediano=z\n",
        "      menor=y\n",
        "    else:\n",
        "      mediano=y\n",
        "      menor=z\n",
        "  else:\n",
        "      menor=x\n",
        "\n",
        "  if(y>x)and(y>z):\n",
        "    mayor=y\n",
        "    if(x>z):\n",
        "      mediano=x\n",
        "      menor=z\n",
        "    else:\n",
        "      mediano=z\n",
        "      menor=x\n",
        "  else:\n",
        "      menor=y\n",
        "\n",
        "  if(z>x)and(z>y):\n",
        "    mayor=z\n",
        "    if(x>y):\n",
        "      mediano=x\n",
        "      menor=y\n",
        "    else:\n",
        "      mediano=y\n",
        "      menor=x\n",
        "  else:\n",
        "      menor=z\n",
        "  print(\"El mayor tiene=\",mayor,\"años\")\n",
        "  print(\"El mediano tiene=\",mediano,\"años\")\n",
        "  print(\"El menor tiene=\",menor,\"años\")"
      ],
      "metadata": {
        "id": "RKT9oycIn8QN"
      },
      "execution_count": null,
      "outputs": []
    },
    {
      "cell_type": "markdown",
      "source": [
        "##5. Codigo Estudiantil\n",
        "Escriba un programa que, de acuerdo al código del estudiante, defina a qué universidad pertenece. \n",
        "\n",
        "a.\tSi el código empieza con U y tiene 8 dígitos, pertenece a la UNAB\n",
        "\n",
        "b.\tSi los cuatro primeros dígitos es mayor a 1950 , pertenece a la UIS.\n",
        "\n",
        "c.\tSi el código empieza con A y tres ceros seguidos, pertenece a los ANDES.\n",
        "\n",
        "d.\t1000 exp. adicional: Si el código de la UNAB termina en 26, debe imprimir que es ingeniero electrónico. Si termina en 32, ingeniero de sistemas. Si termina en 50, pertenece a ingeniería de administración de empresas. \n",
        "\n",
        "e.\t1000 xp. Adicional: Defina códigos con los dos últimos caracteres para la UIS y ANDES, de las mismas carreras.\n"
      ],
      "metadata": {
        "id": "aXFYrYisVRP1"
      }
    },
    {
      "cell_type": "code",
      "source": [
        "def contar_caracteres (cadena):\n",
        "  contador = 0\n",
        "  while cadena[contador:]:\n",
        "    contador += 1\n",
        "  return contador\n",
        "\n",
        "print(\" ingrersa el codigo estudiantil\")\n",
        "print(\"primero la letra con la que inica\")\n",
        "letra=(input())\n",
        "print(\"ahora los numeros que le siguen\")\n",
        "num=(input())\n",
        "print(len(num))\n",
        "if(letra==\"u\")and(num==\"8\"):\n",
        "        print(\"eres de la unab\") \n"
      ],
      "metadata": {
        "id": "5VM33D6ypRPc"
      },
      "execution_count": null,
      "outputs": []
    },
    {
      "cell_type": "markdown",
      "source": [
        "## 6. Cuatro Notas"
      ],
      "metadata": {
        "id": "USWGrL0-cDsR"
      }
    },
    {
      "cell_type": "code",
      "source": [
        "print(\"ingresa tus cuatro notas de 0 a 50\")\n",
        "y= int(input())\n",
        "z= int(input())\n",
        "x= int(input())\n",
        "w= int(input())\n",
        "\n",
        "promedio=((y+z+x+w)/(4))\n",
        "\n",
        "print(\"tu promedio es\" ,promedio,)\n",
        "\n",
        "if promedio>45:\n",
        "  print(\"esta eximido del ultimo examen \")\n",
        "else:\n",
        "  if promedio>=35:\n",
        "    print(\"debes presentar el examen \")\n",
        "  else:\n",
        "    if promedio>=30:\n",
        "      print(\"debes presentar examen mas un trabajo\")\n",
        "    else:\n",
        "      if promedio>=20:\n",
        "        print(\"debe presentar una habilitacion\")\n",
        "      else:\n",
        "        print(\"perdiste la materia\")"
      ],
      "metadata": {
        "id": "nNeAQUsUcGG6"
      },
      "execution_count": null,
      "outputs": []
    },
    {
      "cell_type": "markdown",
      "source": [
        "## 7. Fecha DE Nacimiento"
      ],
      "metadata": {
        "id": "MioduKMmcM5h"
      }
    },
    {
      "cell_type": "code",
      "source": [
        "print(\"ingresa tu fecha de nacimiento \")\n",
        "dia_nacimiento= int(input(\"dia\"))\n",
        "mes_nacimiento= int(input(\"mes\"))\n",
        "año_nacimiento= int(input(\"año\"))\n",
        "\n",
        "dia_actual=11\n",
        "mes_actual=8\n",
        "año_actual=2022\n",
        "\n",
        "años=(año_actual - año_nacimiento)\n",
        "\n",
        "if mes_actual>mes_nacimiento:\n",
        "  años=años-1\n",
        "else:  mes_nacimiento=  mes_actual\n",
        "\n",
        "if(dia_nacimiento==dia_actual):\n",
        "    print(\"estas cumpliendo años\")\n",
        "  \n",
        "print(\"usted tiene \",años,\"años\")"
      ],
      "metadata": {
        "id": "Yoo1Pd6IcOAo"
      },
      "execution_count": null,
      "outputs": []
    },
    {
      "cell_type": "markdown",
      "source": [
        "##8. Año Bisiesto"
      ],
      "metadata": {
        "id": "oRrRFffmwExJ"
      }
    },
    {
      "cell_type": "code",
      "source": [
        "anno = int(input()) \n",
        "\n",
        "if anno % 4 != 0: \n",
        "\tprint(\"No es bisiesto\")\n",
        "elif anno % 4 == 0 and anno % 100 != 0: \n",
        "\tprint(\"Es bisiesto\")\n",
        "elif anno % 4 == 0 and anno % 100 == 0 and anno % 400 != 0: \n",
        "\tprint(\"No es bisiesto\")\n",
        "elif anno % 4 == 0 and anno % 100 == 0 and anno % 400 == 0: \n",
        "\tprint(\"Es bisiesto\")"
      ],
      "metadata": {
        "id": "BONWYz_CuT91"
      },
      "execution_count": null,
      "outputs": []
    },
    {
      "cell_type": "markdown",
      "source": [
        "##12. El estudiante paso 5°?"
      ],
      "metadata": {
        "id": "CsuJD5z6brCA"
      }
    },
    {
      "cell_type": "code",
      "source": [
        "from random import randint\n",
        "\n",
        "print(\"escribe el numero de la operacion que quieres realizar \")\n",
        "print(\"1.suma, 2.resta, 3.multiplicacion, 4.division \")\n",
        "opc=str(input())\n",
        "num1 = [randint(1,10)]\n",
        "num2 = [randint(1,10)]\n",
        "\n",
        "if (opc>=\"1\"):\n",
        "  print(\"realiza la siguiente suma\" ,num1,\"+\",num2)\n",
        "print(num1+29)\n",
        "x=(input(\" escribe tu resultado \")) \n",
        "\n",
        "print(x)"
      ],
      "metadata": {
        "id": "9TZfRtbQck_8"
      },
      "execution_count": null,
      "outputs": []
    },
    {
      "cell_type": "markdown",
      "source": [
        "##13.Conversion de medidas"
      ],
      "metadata": {
        "id": "1fCEtuWHdeki"
      }
    },
    {
      "cell_type": "code",
      "source": [
        "print(\"ingrese la opcion que quieres realizar\")\n",
        "print(\"1. cm -> m\")\n",
        "print(\"2. cm -> km\")\n",
        "print(\"3. m -> km\")\n",
        "print(\"4. km -> cm\")\n",
        "print(\"5. km -> m\")\n",
        "\n",
        "opc=int(input())\n",
        "\n",
        "if (opc==1):\n",
        "  cm=float(input(\" ingresa los cm \"))\n",
        "  print(f\"{cm} cm es igual a {cm* 0.01}m\")\n",
        "\n",
        "if (opc==2):\n",
        "  cm=float(input(\" ingresa los cm \"))\n",
        "  print(f\"{cm} cm es igual a {cm/ 100000}km\")\n",
        "\n",
        "if (opc==3):\n",
        "  m=float(input(\" ingresa los m \"))\n",
        "  print(f\"{m} cm es igual a {m/ 1000}km\")\n",
        "\n",
        "if (opc==4):\n",
        "  km=float(input(\" ingresa los km \"))\n",
        "  print(f\"{ckm} cm es igual a {km* 1000000}cm\")\n",
        "\n",
        "if (opc==5):\n",
        "  km=float(input(\" ingresa los km \"))\n",
        "  print(f\"{km} cm es igual a {km* 1000}m\")\n",
        "\n",
        "else:\n",
        "  print(\"opcion incorrecta\")\n"
      ],
      "metadata": {
        "colab": {
          "base_uri": "https://localhost:8080/"
        },
        "id": "4tPQiku-diMV",
        "outputId": "66fe0c50-2f02-48ca-9228-42c1f696d5fc"
      },
      "execution_count": 5,
      "outputs": [
        {
          "output_type": "stream",
          "name": "stdout",
          "text": [
            "ingrese la opcion que quieres realizar\n",
            "1. cm -> m\n",
            "2. cm -> km\n",
            "3. m -> km\n",
            "4. km -> cm\n",
            "5. km -> m\n",
            "1\n",
            " ingresa los cm 15\n",
            "15.0 cm es igual a 0.15m\n"
          ]
        }
      ]
    },
    {
      "cell_type": "markdown",
      "source": [
        "##14.Vocal o Consonante"
      ],
      "metadata": {
        "id": "O_TBP2YdgyzD"
      }
    },
    {
      "cell_type": "code",
      "source": [
        "q=str(input(\" ingrese cualquier letra en minuscula \"))\n",
        "if (q==\"a\")or(q==\"e\")or(q==\"i\")or(q==\"o\")or(q==\"u\"):\n",
        "  print(\"escribiste una vocal\")\n",
        "elif (q==\"b\")or(q==\"c\")or(q==\"d\")or(q==\"e\")or(q==\"f\")or(q==\"g\")or(q==\"h\")or(q==\"j\")or(q==\"k\")or(q==\"l\")or(q==\"m\")or(q==\"n\")or(q==\"p\")or(q==\"q\")or(q==\"r\")or(q==\"s\")or(q==\"t\")or(q==\"v\")or(q==\"w\")or(q==\"x\")or(q==\"y\")or(q==\"z\")or(q==\"ñ\"):\n",
        "  print(\"es una consonante\")\n",
        "else:\n",
        "  print(\"el dato ingresado no es valido\" )"
      ],
      "metadata": {
        "colab": {
          "base_uri": "https://localhost:8080/"
        },
        "id": "T_U1bIsGg2av",
        "outputId": "242b2a03-78a5-406c-da0b-2237bb4beb62"
      },
      "execution_count": 16,
      "outputs": [
        {
          "output_type": "stream",
          "name": "stdout",
          "text": [
            " ingrese cualquier letra en minuscula v\n",
            "es una consonante\n"
          ]
        }
      ]
    },
    {
      "cell_type": "markdown",
      "source": [
        "##15. Valor Absoluto"
      ],
      "metadata": {
        "id": "-dSdL4GJl6uf"
      }
    },
    {
      "cell_type": "code",
      "source": [
        "v= float(input(\" ingresa un numero para hallar su valor absoluto \"))\n",
        "b=int(v)\n",
        "\n",
        "if b>0 and v==b:\n",
        "  print(\"el valor absoluto de \",v,\"es\",v,)\n",
        "elif b<0and v==b:\n",
        "  print(\"el valor absoluto de \",v,\"es\",(-1*v),)\n",
        "else:\n",
        "  print(\"debes ingresar un numero entero\") "
      ],
      "metadata": {
        "colab": {
          "base_uri": "https://localhost:8080/"
        },
        "id": "KDW8mPNLi4oc",
        "outputId": "1904392c-927b-428d-b8ff-2c1507bda3c8"
      },
      "execution_count": 17,
      "outputs": [
        {
          "output_type": "stream",
          "name": "stdout",
          "text": [
            "ingresa un numero para hallar su valor absoluto7\n",
            "el valor absoluto de  7.0 es 7.0\n"
          ]
        }
      ]
    }
  ]
}