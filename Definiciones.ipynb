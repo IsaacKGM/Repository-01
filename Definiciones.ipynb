{
  "nbformat": 4,
  "nbformat_minor": 0,
  "metadata": {
    "colab": {
      "provenance": [],
      "collapsed_sections": []
    },
    "kernelspec": {
      "name": "python3",
      "display_name": "Python 3"
    },
    "language_info": {
      "name": "python"
    }
  },
  "cells": [
    {
      "cell_type": "markdown",
      "source": [
        "##FALSE"
      ],
      "metadata": {
        "id": "0bIx6Fj7Gr9Q"
      }
    },
    {
      "cell_type": "code",
      "execution_count": 5,
      "metadata": {
        "id": "bueBFdyvGqRE"
      },
      "outputs": [],
      "source": [
        "##Una variable booleana es una variable que sólo puede tomar dos posibles valores: True (verdadero) y en este caso False (falso)\n",
        "\n",
        "i = 0\n",
        "while True:\n",
        "    print(\"Hello World\")\n",
        "    i+=1\n",
        "    if i == 10:\n",
        "        break"
      ]
    },
    {
      "cell_type": "markdown",
      "source": [
        "##NONE"
      ],
      "metadata": {
        "id": "Y0oxlv3EJLAP"
      }
    },
    {
      "cell_type": "code",
      "source": [
        "##El objeto None de Python, \n",
        "##denota falta de valor. Este objeto no tiene métodos.\n",
        "## Debe tratarse como cualquier otro objeto con respecto a los recuentos de referencia.\n",
        "\n",
        "a = None\n",
        "if a == None:\n",
        "    print(\"a es None.\")\n",
        "else:\n",
        "    print(\"a no es None.\")"
      ],
      "metadata": {
        "colab": {
          "base_uri": "https://localhost:8080/"
        },
        "id": "gf2lWouPJBPl",
        "outputId": "c7a7199b-308d-4c7f-ea11-6989440bc844"
      },
      "execution_count": 3,
      "outputs": [
        {
          "output_type": "stream",
          "name": "stdout",
          "text": [
            "a es None.\n"
          ]
        }
      ]
    },
    {
      "cell_type": "markdown",
      "source": [
        "##TRUE"
      ],
      "metadata": {
        "id": "V9WW60I7KK63"
      }
    },
    {
      "cell_type": "code",
      "source": [
        "##Una variable booleana es una variable que sólo puede tomar dos posibles valores: True (verdadero) y en este caso False (falso)\n",
        "\n",
        "i = 0\n",
        "while True:\n",
        "    print(\"Hello World\")\n",
        "    i+=1\n",
        "    if i == 10:\n",
        "        break"
      ],
      "metadata": {
        "id": "ntVe4-22KLmw"
      },
      "execution_count": null,
      "outputs": []
    },
    {
      "cell_type": "markdown",
      "source": [
        "##AND\n"
      ],
      "metadata": {
        "id": "jL0fNY5tKMlH"
      }
    },
    {
      "cell_type": "code",
      "source": [
        "##El operador AND lógico ( && ) devuelve true si ambos operandos son true y devuelven false de lo contrario. Los operandos se convierten implícitamente al tipo bool antes de la evaluación y el resultado es de tipo bool . El operador AND lógico tiene asociatividad de izquierda a derecha\n",
        "print(0 and not 1 or 1 and not 0 or 1 and 0)"
      ],
      "metadata": {
        "colab": {
          "base_uri": "https://localhost:8080/"
        },
        "id": "yE7xHnDpKNEP",
        "outputId": "5fa68c13-02e4-45bb-d7f2-3f7beb6a4d91"
      },
      "execution_count": 6,
      "outputs": [
        {
          "output_type": "stream",
          "name": "stdout",
          "text": [
            "True\n"
          ]
        }
      ]
    },
    {
      "cell_type": "markdown",
      "source": [
        "##ASS"
      ],
      "metadata": {
        "id": "zkxjo2WqUQab"
      }
    },
    {
      "cell_type": "code",
      "source": [
        "##El uso de with y as es muy utilizado a la hora de manejar ficheros, pero en realidad pertenecen a los context managers o gestores de contexto, un concepto algo avanzado.\n",
        "with open('fichero.txt', 'r') as file:\n",
        "    print(file.read())\n"
      ],
      "metadata": {
        "id": "TPjS8fCfUR2a"
      },
      "execution_count": null,
      "outputs": []
    },
    {
      "cell_type": "markdown",
      "source": [
        "##ASSERT"
      ],
      "metadata": {
        "id": "SnKsLTfzMEgo"
      }
    },
    {
      "cell_type": "code",
      "source": [
        "##El uso de assert en Python nos permite realizar comprobaciones. Si la expresión contenida dentro del mismo es False, se lanzará una excepción, concretamente AssertionError. Veamos un ejemplo:\n",
        "assert(1==1)"
      ],
      "metadata": {
        "id": "i4UPwEuaME0f"
      },
      "execution_count": 9,
      "outputs": []
    },
    {
      "cell_type": "markdown",
      "source": [
        "##BREAK"
      ],
      "metadata": {
        "id": "3Nc5hVI1OF4_"
      }
    },
    {
      "cell_type": "code",
      "source": [
        "##La sentencia break nos permite alterar el comportamiento de los bucles while y for. Concretamente, permite terminar con la ejecución del bucle.\n",
        "##Esto significa que una vez se encuentra la palabra break, el bucle se habrá terminado.\n",
        "\n",
        "for i in range(5):\n",
        "    print(i)\n",
        "    break\n"
      ],
      "metadata": {
        "colab": {
          "base_uri": "https://localhost:8080/"
        },
        "id": "qlcwGi4nOIZh",
        "outputId": "9005ecb0-49c1-4509-9b10-2438093b3207"
      },
      "execution_count": 10,
      "outputs": [
        {
          "output_type": "stream",
          "name": "stdout",
          "text": [
            "0\n"
          ]
        }
      ]
    },
    {
      "cell_type": "markdown",
      "source": [
        "##CLASS"
      ],
      "metadata": {
        "id": "6KoIyAPPOawH"
      }
    },
    {
      "cell_type": "code",
      "source": [
        "##El uso de class nos permite crear clases. Las clases son el núcleo de la programación orientada objetos, y son una especie de estructura de datos que agrupa un conjunto de funciones (métodos) y variables (atributos).\n",
        "class MiClase:\n",
        "    def __init__(self):\n",
        "        print(\"Creando objeto de MiClase\")"
      ],
      "metadata": {
        "id": "hYu763PKOcOD"
      },
      "execution_count": 11,
      "outputs": []
    },
    {
      "cell_type": "markdown",
      "source": [
        "##CONTINUE"
      ],
      "metadata": {
        "id": "hni2ZpaeOmsQ"
      }
    },
    {
      "cell_type": "code",
      "source": [
        "##El uso de continue al igual que el ya visto break, nos permite modificar el comportamiento de de los bucles while y for.\n",
        "##Concretamente, continue se salta todo el código restante en la iteración actual y vuelve al principio en el caso de que aún queden iteraciones por completar.\n",
        "cadena = 'Python'\n",
        "for letra in cadena:\n",
        "    if letra == 'P':\n",
        "        continue\n",
        "    print(letra)"
      ],
      "metadata": {
        "id": "sYC6FD3BOpjK"
      },
      "execution_count": null,
      "outputs": []
    },
    {
      "cell_type": "markdown",
      "source": [
        "##DEF"
      ],
      "metadata": {
        "id": "8Jnay1MGO7B3"
      }
    },
    {
      "cell_type": "code",
      "source": [
        "##El uso de def nos permite crear una función.\n",
        "def funcion_suma(a, b):\n",
        "    print(\"La suma es\", a + b)\n"
      ],
      "metadata": {
        "id": "VOAhY_3DO7cY"
      },
      "execution_count": null,
      "outputs": []
    },
    {
      "cell_type": "markdown",
      "source": [
        "##DEL"
      ],
      "metadata": {
        "id": "a41BsBKBUCqP"
      }
    },
    {
      "cell_type": "code",
      "source": [
        "##El uso de del nos permite eliminar una variable del scope, pudiendo resultar útil cuando trabajamos con variables que almacenan gran cantidad de datos.\n",
        "a = 10\n",
        "del a\n",
        "print(a)"
      ],
      "metadata": {
        "id": "Ikktt1ZPUEbT"
      },
      "execution_count": null,
      "outputs": []
    },
    {
      "cell_type": "markdown",
      "source": [
        "##ELIF"
      ],
      "metadata": {
        "id": "uPsFP2d9PMlA"
      }
    },
    {
      "cell_type": "code",
      "source": [
        "##El uso del elif y los condicionales en general son la base de cualquier lenguaje de programación. Son usados para alterar la línea de ejecución del programa en función de determinadas condiciones.\n",
        "\n",
        "lenguaje = \"Python\"\n",
        "\n",
        "if lenguaje == \"Python\":\n",
        "    print(\"Estoy de acuerdo, Python es el mejor\")\n",
        "elif lenguaje == \"Java\":\n",
        "    print(\"No me gusta, Java no mola\")\n",
        "else:\n",
        "    print(\"Ningún otro lenguaje supera a Python\")"
      ],
      "metadata": {
        "id": "_o_4E7DwPM_I"
      },
      "execution_count": null,
      "outputs": []
    },
    {
      "cell_type": "markdown",
      "source": [
        "##IF"
      ],
      "metadata": {
        "id": "pIJHL3JVP6oZ"
      }
    },
    {
      "cell_type": "code",
      "source": [
        "##El uso del if y los condicionales en general son la base de cualquier lenguaje de programación. Son usados para alterar la línea de ejecución del programa en función de determinadas condiciones.\n",
        "\n",
        "lenguaje = \"Python\"\n",
        "\n",
        "if lenguaje == \"Python\":\n",
        "    print(\"Estoy de acuerdo, Python es el mejor\")\n",
        "elif lenguaje == \"Java\":\n",
        "    print(\"No me gusta, Java no mola\")\n",
        "else:\n",
        "    print(\"Ningún otro lenguaje supera a Python\")"
      ],
      "metadata": {
        "id": "6h2vtBKbP4EP"
      },
      "execution_count": null,
      "outputs": []
    },
    {
      "cell_type": "markdown",
      "source": [
        "##ELSE"
      ],
      "metadata": {
        "id": "k5k9gW2cP913"
      }
    },
    {
      "cell_type": "code",
      "source": [
        "##El uso del else y los condicionales en general son la base de cualquier lenguaje de programación. Son usados para alterar la línea de ejecución del programa en función de determinadas condiciones.\n",
        "\n",
        "lenguaje = \"Python\"\n",
        "\n",
        "if lenguaje == \"Python\":\n",
        "    print(\"Estoy de acuerdo, Python es el mejor\")\n",
        "elif lenguaje == \"Java\":\n",
        "    print(\"No me gusta, Java no mola\")\n",
        "else:\n",
        "    print(\"Ningún otro lenguaje supera a Python\")"
      ],
      "metadata": {
        "id": "qQyHvxbZP_Wn"
      },
      "execution_count": null,
      "outputs": []
    },
    {
      "cell_type": "markdown",
      "source": [
        "##EXCEPT"
      ],
      "metadata": {
        "id": "Q3rQQv2kQ4EY"
      }
    },
    {
      "cell_type": "code",
      "source": [
        "##lo que hay dentro del try es la sección del código que podría lanzar la excepción que se está capturando en el except. Por lo tanto cuando ocurra una excepción, se entra en el except pero el programa no se para.\n",
        "\n",
        "a = 5; b = 0\n",
        "try:\n",
        "    c = a/b\n",
        "except ZeroDivisionError:\n",
        "    print(\"No se ha podido realizar la división\")"
      ],
      "metadata": {
        "id": "e9Cpn3ubQ5qh"
      },
      "execution_count": null,
      "outputs": []
    },
    {
      "cell_type": "markdown",
      "source": [
        "##FINALLY"
      ],
      "metadata": {
        "id": "PTlq-8agRI1A"
      }
    },
    {
      "cell_type": "code",
      "source": [
        "##A los ya vistos bloques try, except y else podemos añadir un bloque más, el finally. Dicho bloque se ejecuta siempre, haya o no haya habido excepción.\n",
        "##Este bloque se suele usar si queremos ejecutar algún tipo de acción de limpieza. Si por ejemplo estamos escribiendo datos en un fichero pero ocurre una excepción, tal vez queramos borrar el contenido que hemos escrito con anterioridad, para no dejar datos inconsistenes en el fichero.\n",
        "try:\n",
        "    # Forzamos excepción\n",
        "    x = 2/0\n",
        "except:\n",
        "    # Se entra ya que ha habido una excepción\n",
        "    print(\"Entra en except, ha ocurrido una excepción\")\n",
        "finally:\n",
        "    # También entra porque finally es ejecutado siempre\n",
        "    print(\"Entra en finally, se ejecuta el bloque finally\")"
      ],
      "metadata": {
        "id": "92tAvhBsRMIz"
      },
      "execution_count": null,
      "outputs": []
    },
    {
      "cell_type": "markdown",
      "source": [
        "##FROM"
      ],
      "metadata": {
        "id": "idJBcM3NRf6b"
      }
    },
    {
      "cell_type": "code",
      "source": [
        "##El uso de from e import nos permite importar módulos o librerías, tanto estándar de Python como externas o definidas por nosotros. En ejemplos como este es donde podemos ver que la sintaxis de Python se asemeja bastante al lenguaje natural: de collections importa namedtuple.\n",
        "from collections import namedtuple"
      ],
      "metadata": {
        "id": "e1Kl9OuLRhVQ"
      },
      "execution_count": null,
      "outputs": []
    },
    {
      "cell_type": "markdown",
      "source": [
        "##GLOBAL"
      ],
      "metadata": {
        "id": "nfjhPNseRiKx"
      }
    },
    {
      "cell_type": "code",
      "source": [
        "##El uso de global permite realizar lo siguiente, y de no usarlo tendríamos un UnboundLocalError. Aunque puede resultar muy útil, mucho cuidado con las variables globales.\n",
        "a = 0\n",
        "\n",
        "def suma_uno():\n",
        "    global a\n",
        "    a = a + 1\n",
        "\n",
        "suma_uno()\n",
        "print(a)\n"
      ],
      "metadata": {
        "id": "_3IazrEfRnVK"
      },
      "execution_count": null,
      "outputs": []
    },
    {
      "cell_type": "markdown",
      "source": [
        "##IF"
      ],
      "metadata": {
        "id": "cg2T0rEpRnth"
      }
    },
    {
      "cell_type": "code",
      "source": [
        "##Un ejemplo sería si tenemos dos valores a y b que queremos dividir. Antes de entrar en el bloque de código que divide a/b, sería importante verificar que b es distinto de cero, ya que la división por cero no está definida. Es aquí donde entran los condicionales if.\n",
        "a = 4\n",
        "b = 2\n",
        "if b != 0:\n",
        "    print(a/b)"
      ],
      "metadata": {
        "id": "Hu5M_hnrRprS"
      },
      "execution_count": null,
      "outputs": []
    },
    {
      "cell_type": "markdown",
      "source": [
        "##IMPORT"
      ],
      "metadata": {
        "id": "87a5xhOVRqUa"
      }
    },
    {
      "cell_type": "code",
      "source": [
        "##El uso de from e import nos permite importar módulos o librerías, tanto estándar de Python como externas o definidas por nosotros. En ejemplos como este es donde podemos ver que la sintaxis de Python se asemeja bastante al lenguaje natural: de collections importa namedtuple.\n",
        "from collections import namedtuple"
      ],
      "metadata": {
        "id": "ISXbsSRGRtGu"
      },
      "execution_count": null,
      "outputs": []
    },
    {
      "cell_type": "markdown",
      "source": [
        "##LAMBDA"
      ],
      "metadata": {
        "id": "VS-treY7Rzfq"
      }
    },
    {
      "cell_type": "code",
      "source": [
        "##Las funciones lambda o anónimas son un tipo de funciones en Python que típicamente se definen en una línea y cuyo código a ejecutar suele ser pequeño\n",
        "lambda a, b : a + b"
      ],
      "metadata": {
        "id": "E2Osa21yR5hj"
      },
      "execution_count": null,
      "outputs": []
    },
    {
      "cell_type": "markdown",
      "source": [
        "##NONLOCAL"
      ],
      "metadata": {
        "id": "5nhOxQLkR6_5"
      }
    },
    {
      "cell_type": "code",
      "source": [
        "##El uso de nonlocal es útil cuando tenemos funciones anidadas. El el siguiente ejemplo podemos ver como cuando funcion_b modifica x, también afecta a la x de la funcion_a, ya que la hemos declarado como nonlocal. Te invitamos a que elimines el nonlocal y veas el comportamiento.\n",
        "def funcion_a():\n",
        "    x = 10\n",
        "\n",
        "    def funcion_b():\n",
        "        nonlocal x\n",
        "        x = 20\n",
        "        print(\"funcion_b\", x)\n",
        "\n",
        "    funcion_b()\n",
        "    print(\"funcion_a\", x)\n",
        "\n",
        "\n",
        "funcion_a()"
      ],
      "metadata": {
        "id": "WJjxEbkvR9e5"
      },
      "execution_count": null,
      "outputs": []
    },
    {
      "cell_type": "markdown",
      "source": [
        "##RAISE"
      ],
      "metadata": {
        "id": "lY3UtqDRSJ2d"
      }
    },
    {
      "cell_type": "code",
      "source": [
        "## podemos  levantemos ZeroDivisionError o NameError usando raise. La sintaxis es muy fácil.\n",
        "\n",
        "raise ZeroDivisionError(\"Información de la excepción\")"
      ],
      "metadata": {
        "id": "jjFdI-HhSLNy"
      },
      "execution_count": null,
      "outputs": []
    },
    {
      "cell_type": "markdown",
      "source": [
        "##RETURN"
      ],
      "metadata": {
        "id": "DhM_kNPxSL1K"
      }
    },
    {
      "cell_type": "code",
      "source": [
        "##El uso de la sentencia return permite realizar dos cosas:\n",
        "##Salir de la función y transferir la ejecución de vuelta a donde se realizó la llamada.\n",
        "##Devolver uno o varios parámetros, fruto de la ejecución de la función.\n",
        "\n",
        "def mi_funcion():\n",
        "    print(\"Entra en mi_funcion\")\n",
        "    return\n",
        "    print(\"No llega\")\n",
        "mi_funcion() # Entra en mi_funcion"
      ],
      "metadata": {
        "id": "iHQqYPgySNRr"
      },
      "execution_count": null,
      "outputs": []
    },
    {
      "cell_type": "markdown",
      "source": [
        "##TRY"
      ],
      "metadata": {
        "id": "iJ9dHQI-SN-S"
      }
    },
    {
      "cell_type": "code",
      "source": [
        "##las excepciones pueden ser capturadas y manejadas adecuadamente, sin que el programa se detenga. Veamos un ejemplo con la división entre cero.\n",
        "a = 5; b = 0\n",
        "try:\n",
        "    c = a/b\n",
        "except ZeroDivisionError:\n",
        "    print(\"No se ha podido realizar la división\")"
      ],
      "metadata": {
        "id": "Ys_KEv8YSPvr"
      },
      "execution_count": null,
      "outputs": []
    },
    {
      "cell_type": "markdown",
      "source": [
        "##WHILE"
      ],
      "metadata": {
        "id": "qLhwGcHdSQbp"
      }
    },
    {
      "cell_type": "code",
      "source": [
        "##El uso del while nos permite ejecutar una sección de código repetidas veces, de ahí su nombre. El código se ejecutará mientras una condición determinada se cumpla. Cuando se deje de cumplir, se saldrá del bucle y se continuará la ejecución normal. Llamaremos iteración a una ejecución completa del bloque de código.\n",
        "x = 5\n",
        "while x > 0:\n",
        "    x -=1\n",
        "    print(x)\n",
        "\n",
        "# Salida: 4,3,2,1,0"
      ],
      "metadata": {
        "id": "YVpYFJHUSSiD"
      },
      "execution_count": null,
      "outputs": []
    },
    {
      "cell_type": "markdown",
      "source": [
        "##YIELD"
      ],
      "metadata": {
        "id": "ZKf_OTk5SVS8"
      }
    },
    {
      "cell_type": "code",
      "source": [
        "##yield está asociado a los generadores y las corrutinas, un concepto un tanto avanzado pero muy interesante. En el siguiente generador vemos como se generan tres valores, obteniendo uno cada vez que iteramos el generador.\n",
        "def generador():\n",
        "    n = 1\n",
        "    yield n\n",
        "\n",
        "    n += 1\n",
        "    yield n\n",
        "\n",
        "    n += 1\n",
        "    yield n\n",
        "\n",
        "for i in generador():\n",
        "    print(i)\n",
        "\n",
        "# Salida: 1, 2, 3"
      ],
      "metadata": {
        "id": "qqGJ65NmShi4"
      },
      "execution_count": null,
      "outputs": []
    }
  ]
}