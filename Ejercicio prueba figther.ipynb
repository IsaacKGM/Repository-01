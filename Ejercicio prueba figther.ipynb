{
  "nbformat": 4,
  "nbformat_minor": 0,
  "metadata": {
    "colab": {
      "provenance": []
    },
    "kernelspec": {
      "name": "python3",
      "display_name": "Python 3"
    },
    "language_info": {
      "name": "python"
    }
  },
  "cells": [
    {
      "cell_type": "code",
      "source": [
        "combos={\"combos\":['Combo 1','Combo 2','Combo 3','Combo 4']}\n",
        "bebidas={\"bebidas\":['jugos natural','cerveza','agua',\"gaseosa\", \"sin bebida\"]}\n",
        "adiciones={\"adiciones\":['papas fritas','aritos de cebolla','helado','sin adiccion']}\n",
        "\n",
        "\n",
        "while True:\n",
        "\n",
        "  class pedido:\n",
        "    combos=[]\n",
        "    costo=0\n",
        "  print(\"Que combo quieres ordenar ?\")\n",
        "  cating=int(input(\"Ingrese el combo que quieres pedir\\n(1)combo 1 ($20.000)\\n(2)combo 2($25.000)\\n(3)combo 3($18.000)\\n(4)Combo 4($24.500)\\n(si no escoges te daremos nuestro mejor combo el combo) \\n\"))\n",
        "  pedido.costo=20000 if cating==1 else 25000 if cating==2 else 18000 if cating==3 else 24500 if cating==4 else pedido.costo\n",
        "\n",
        "  class adicion:\n",
        "    costo=pedido.costo\n",
        "  print(\"quieres alguna adicion a tu pedido ?\")\n",
        "  anexo=int(input(\"Ingrese la adicion\\n(1)papas fritas ($3000)\\n(2)aritos de cebolla ($3000)\\n(3)helado ($3000)\\n(4)sin adicion\\n\"))\n",
        "  adicion.costo=3000 if anexo==1 or anexo==2 or anexo==3 else pedido.costo\n",
        "\n",
        "  class bebida:\n",
        "    costo=pedido.costo+adicion.costo\n",
        "  print(\"quieres alguna bebida ?\")\n",
        "  anexo2=int(input(\"Ingrese la bebida\\n(1)jugo natural ($7000)\\n(2)Cerveza ($3500)\\n(3)agua ($4000)\\n(4)sin bebida\\n\"))\n",
        "  bebida.costo=7000 if anexo2==1 else  3500 if anexo2==2 else 4000  if anexo==3 else 0 \n",
        "\n",
        "  costo=pedido.costo+adicion.costo+bebida.costo\n",
        "  print(\"el valor total a pagar es de \",costo )\n",
        "  print(\"tu combo fue el \",cating )\n",
        "  print(\"tu adiccion fue la \",anexo )\n",
        "  print(\"tu bebida fue la \",anexo2 )\n",
        "\n",
        "  print(\"nsiguiente cliente\\n (1) si \\n (2) no\")\n",
        "  continuar=input(\"\\nsiguiente cliente\\n\")\n",
        "\n",
        "\n",
        "  contador=contador+costo\n",
        "  if continuar==1:\n",
        "    \n",
        "    continue\n",
        "    \n",
        "  else:  \n",
        "    break\n",
        "\n",
        "print(contador)\n",
        "\n",
        "\n",
        "\n"
      ],
      "metadata": {
        "colab": {
          "base_uri": "https://localhost:8080/"
        },
        "id": "2leKEzbOxWqc",
        "outputId": "945bc95c-53b0-42ff-a539-aab2c171b6ea"
      },
      "execution_count": 28,
      "outputs": [
        {
          "output_type": "stream",
          "name": "stdout",
          "text": [
            "Que combo quieres ordenar ?\n",
            "Ingrese el combo que quieres pedir\n",
            "(1)combo 1 ($20.000)\n",
            "(2)combo 2($25.000)\n",
            "(3)combo 3($18.000)\n",
            "(4)Combo 4($24.500)\n",
            "(si no escoges te daremos nuestro mejor combo el combo) \n",
            "1\n",
            "quieres alguna adicion a tu pedido ?\n",
            "Ingrese la adicion\n",
            "(1)papas fritas ($3000)\n",
            "(2)aritos de cebolla ($3000)\n",
            "(3)helado ($3000)\n",
            "(4)sin adicion\n",
            "1\n",
            "quieres alguna bebida ?\n",
            "Ingrese la bebida\n",
            "(1)jugo natural ($7000)\n",
            "(2)Cerveza ($3500)\n",
            "(3)agua ($4000)\n",
            "(4)sin bebida\n",
            "1\n",
            "el valor total a pagar es de  30000\n",
            "tu combo fue el  1\n",
            "tu adiccion fue la  1\n",
            "tu bebida fue la  1\n",
            "nsiguiente cliente\n",
            " (1) si \n",
            " (2) no\n",
            "\n",
            "siguiente cliente\n",
            "2\n",
            "30000\n"
          ]
        }
      ]
    }
  ]
}