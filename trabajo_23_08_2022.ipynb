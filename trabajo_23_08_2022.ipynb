{
  "nbformat": 4,
  "nbformat_minor": 0,
  "metadata": {
    "colab": {
      "name": "trabajo 23/08/2022",
      "provenance": [],
      "collapsed_sections": []
    },
    "kernelspec": {
      "name": "python3",
      "display_name": "Python 3"
    },
    "language_info": {
      "name": "python"
    }
  },
  "cells": [
    {
      "cell_type": "markdown",
      "source": [
        "1. Indicar si un número N es un número primo (siendo N un número que se lee).\n"
      ],
      "metadata": {
        "id": "xL3jMDGAnKOu"
      }
    },
    {
      "cell_type": "code",
      "source": [
        "n= int(input(\"Ingresa un numero:\"))\n",
        "x=1 \n",
        "c=0\n",
        "while x<= n:\n",
        "  if n%x==0:\n",
        "   c=c+1\n",
        "  x=x+1\n",
        "if c==2:\n",
        "  print(\"El numero\",n,\"es primo\")\n",
        "else:\n",
        "  print(\"el numero\",n,\"no es primo\")"
      ],
      "metadata": {
        "id": "RITXkU34nixD"
      },
      "execution_count": null,
      "outputs": []
    },
    {
      "cell_type": "markdown",
      "source": [
        "2. Imprimir los 30 primeros números de Fibonacci. "
      ],
      "metadata": {
        "id": "mpFp0nYDnoBj"
      }
    },
    {
      "cell_type": "code",
      "source": [
        "print(\"se imprimiran los 30 primeros numero de fibonacci\")\n",
        "\n",
        "b=1\n",
        "\n",
        "for n in range(0,30):\n",
        "  print(a)\n",
        "total = a + b\n",
        "b=a\n",
        "a= total\n",
        "\n"
      ],
      "metadata": {
        "id": "nSqqPH0QnrXC"
      },
      "execution_count": null,
      "outputs": []
    },
    {
      "cell_type": "markdown",
      "source": [
        "3.Calcular la factorial de un número N(siendo N un número que se lee)"
      ],
      "metadata": {
        "id": "eN6Fr_CU0nn_"
      }
    },
    {
      "cell_type": "code",
      "source": [
        "n=int(input(\"Ingresa un número\"))\n",
        "factorial=1\n",
        "if n<0:\n",
        "  print(\"No hay factorial para numeros negativos\")\n",
        "else:\n",
        "  if n!=0:\n",
        "    for i in range(1,n+1):\n",
        "      factorial=factorial*i\n",
        "    print(\"factorial:\",factorial)"
      ],
      "metadata": {
        "id": "A7JI2Mul0m0J"
      },
      "execution_count": null,
      "outputs": []
    },
    {
      "cell_type": "markdown",
      "source": [
        "4.Calcular la factorial de 10 número diferentes cuyos valores se lean"
      ],
      "metadata": {
        "id": "sqo1oL1L0xfw"
      }
    },
    {
      "cell_type": "code",
      "source": [
        "for i in range(10):\n",
        "  n=int(input(\"Ingresa un número\"))\n",
        "  factorial=1\n",
        "  if n<0:\n",
        "    print(\"No hay factorial para numeros negativos\")\n",
        "  else:\n",
        "    if n!=0:\n",
        "      for i in range(1,n+1):\n",
        "        factorial=factorial*i\n",
        "      print(\"factorial:\",factorial)"
      ],
      "metadata": {
        "id": "Fidw2ITa0u0A"
      },
      "execution_count": null,
      "outputs": []
    },
    {
      "cell_type": "markdown",
      "source": [
        "5. Leer 20 números y encontrar el mayor y el menor valor leídos"
      ],
      "metadata": {
        "id": "DWZnLDqdsOQT"
      }
    },
    {
      "cell_type": "code",
      "source": [
        "menor = 0\n",
        "mayor = 0\n",
        "maximo= 20\n",
        "\n",
        "for i in range(maximo):\n",
        "    num = int(input(\"Dame un numero:\"))\n",
        "\n",
        "if num > mayor:\n",
        "    mayor = num\n",
        "    print(\"el mayor es \",mayor)\n",
        "elif num < menor:\n",
        "    menor = num\n",
        "    print(\"el menor es \",menor)\n",
        "\n"
      ],
      "metadata": {
        "id": "FP3PAP8MsOuL"
      },
      "execution_count": null,
      "outputs": []
    },
    {
      "cell_type": "code",
      "source": [
        "mayor = 0\n",
        "maximo = 20\n",
        " \n",
        "for i in range(maximo):\n",
        "    num = int(input('Dame un numero:'))\n",
        "    if num > mayor:\n",
        "        mayor = num\n",
        " \n",
        "print(mayor)"
      ],
      "metadata": {
        "id": "xFO-kDKVvWz0"
      },
      "execution_count": null,
      "outputs": []
    },
    {
      "cell_type": "code",
      "source": [
        "menor = 0\n",
        "maximo = 20\n",
        " \n",
        "for i in range(maximo):\n",
        "    num = int(input('Dame un numero:'))\n",
        "    if num < menor:\n",
        "        menor = num\n",
        " \n",
        "print(mayor)"
      ],
      "metadata": {
        "id": "Yn-aQXfdz9WB"
      },
      "execution_count": null,
      "outputs": []
    },
    {
      "cell_type": "markdown",
      "source": [
        "6. Mostrar la tabla de multiplicar del número que seleccione el usuario. Revisar que esté en el rango\n",
        "de 1 a 10.\n"
      ],
      "metadata": {
        "id": "HtNOyimrzzwq"
      }
    },
    {
      "cell_type": "code",
      "source": [
        "##REALIZAR LA TABLA DE N DEL 1 AL 10\n",
        "n=int(input(\"que tabla desea generar y hasta que tabla ?\"))\n",
        "x=int(input(\"hasta que tabla ?\"))\n",
        "\n",
        "for n in range(n,x):\n",
        "  print(\"tabla del \",n)\n",
        "  for i in range(1,11):\n",
        "    print(n,\"x\",i,\"=\",n*i)"
      ],
      "metadata": {
        "id": "Ntt1vGmuzVBE"
      },
      "execution_count": null,
      "outputs": []
    },
    {
      "cell_type": "markdown",
      "source": [
        "7. Calcular la suma siguiente: 100+90+80+70+…+0."
      ],
      "metadata": {
        "id": "SFV4JTfSx9L5"
      }
    },
    {
      "cell_type": "code",
      "source": [
        "a=0\n",
        "z=100\n",
        "for i in range(100,-10,0):\n",
        "  print(num)\n",
        "\n"
      ],
      "metadata": {
        "id": "wibwYwxMyDkX"
      },
      "execution_count": null,
      "outputs": []
    },
    {
      "cell_type": "markdown",
      "source": [
        "10.Multiplicar los números introducidos por el usuario que estén en el rango del 1 al 10. Terminar\n",
        "cuando el usuario introduzca un número fuera del rango y mostrar el resultado."
      ],
      "metadata": {
        "id": "bV7p8e0H1P0O"
      }
    },
    {
      "cell_type": "code",
      "source": [
        "print(\"ingresa numeros para ser multiplicados \" )\n",
        "\n",
        "maximo=10\n",
        "for i in range(maximo):\n",
        "    num = int(input('Dame un numero:'))\n",
        "    print(num*num)"
      ],
      "metadata": {
        "colab": {
          "base_uri": "https://localhost:8080/"
        },
        "id": "74LL4J-B1SB-",
        "outputId": "a05a7ecf-9924-470a-dd61-4ed3cca688a0"
      },
      "execution_count": null,
      "outputs": [
        {
          "metadata": {
            "tags": null
          },
          "name": "stdout",
          "output_type": "stream",
          "text": [
            "ingresa numeros para ser multiplicados \n"
          ]
        }
      ]
    }
  ]
}